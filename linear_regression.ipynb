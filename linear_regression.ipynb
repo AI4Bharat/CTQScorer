{
 "cells": [
  {
   "cell_type": "code",
   "execution_count": null,
   "metadata": {},
   "outputs": [],
   "source": [
    "import pandas as pd\n",
    "import numpy as np\n",
    "import matplotlib.pyplot as plt\n",
    "\n",
    "from sklearn.model_selection import train_test_split\n",
    "from sklearn.preprocessing import MinMaxScaler\n",
    "from sklearn.linear_model import LinearRegression\n",
    "from sklearn.metrics import mean_absolute_error, mean_squared_error\n",
    "\n",
    "import json\n",
    "\n",
    "from utils import make_dir\n",
    "from utils.constants import *\n",
    "from utils.commonutils import set_seed"
   ]
  },
  {
   "attachments": {},
   "cell_type": "markdown",
   "metadata": {},
   "source": [
    "### Load and process data"
   ]
  },
  {
   "cell_type": "code",
   "execution_count": null,
   "metadata": {},
   "outputs": [],
   "source": [
    "def data_preprocessing(training_source, src_lang, dst_lang, features):    \n",
    "    # CTQScorer training dataset should be created before training linear regression model. \n",
    "    dataset_path = '{}/{}_{}_{}.csv'.format(DATASET_TRAIN, training_source, src_lang, dst_lang)\n",
    "    dataset = pd.read_csv(dataset_path)\n",
    "    \n",
    "    # data cleaning\n",
    "    dataset = dataset.drop(['qid_tmp', 'index_tmp'], axis=1)\n",
    "    dataset.replace([np.inf], 99999, inplace=True)\n",
    "\n",
    "    # create feature variables and use target as comet_score; Any new metric can be easily incorporated here.\n",
    "    df = dataset.copy()\n",
    "    X = df.drop(['comet_score', 'bleu_score', 'comet_qe_20_score', 'comet_da_22_score'], axis=1)\n",
    "    y = df[['comet_score']]\n",
    "\n",
    "    # create train/val dataset\n",
    "    X_train, X_rem, y_train, y_rem = train_test_split(X, y, test_size=0.2, random_state=10)\n",
    "    X_val, X_test, y_val, y_test = train_test_split(X_rem, y_rem, test_size=0.5, random_state=10)\n",
    "\n",
    "    # pick only the features we wish to train on \n",
    "    X_train = X_train[features]\n",
    "    X_val = X_val[features]\n",
    "\n",
    "    # Standardizing data\n",
    "    X_scalar = MinMaxScaler()\n",
    "    X_scalar.fit(X_train)\n",
    "    X_train = X_scalar.transform(X_train)\n",
    "    X_val = X_scalar.transform(X_val)\n",
    "\n",
    "    y_scalar = MinMaxScaler()\n",
    "    y_scalar.fit(y_train)\n",
    "    y_train = y_scalar.transform(y_train)\n",
    "    y_val = y_scalar.transform(y_val)\n",
    "    \n",
    "    return X_train, y_train, X_val, y_val, X_scalar"
   ]
  },
  {
   "cell_type": "markdown",
   "metadata": {},
   "source": [
    "### Train linear regression model"
   ]
  },
  {
   "cell_type": "code",
   "execution_count": null,
   "metadata": {},
   "outputs": [],
   "source": [
    "def train_model(X_train, y_train, X_val, y_val):\n",
    "    set_seed()\n",
    "\n",
    "    # create a regression model\n",
    "    model = LinearRegression()\n",
    "\n",
    "    # fit the model\n",
    "    model.fit(X_train, y_train)\n",
    "\n",
    "    # make predictions\n",
    "    y_val_pred = model.predict(X_val)\n",
    "\n",
    "    # model evaluation\n",
    "    print('Validation mean_squared_error : ', mean_squared_error(y_val, y_val_pred))\n",
    "    print('Validation mean_absolute_error : ', mean_absolute_error(y_val, y_val_pred))\n",
    "    \n",
    "    return model"
   ]
  },
  {
   "cell_type": "markdown",
   "metadata": {},
   "source": [
    "### Get salient feature importance"
   ]
  },
  {
   "cell_type": "code",
   "execution_count": null,
   "metadata": {},
   "outputs": [],
   "source": [
    "def get_importance_coeff(model, columns):\n",
    "    importances = pd.DataFrame(data={\n",
    "        'Attribute': columns,\n",
    "        'Importance': model.coef_[0]\n",
    "    })\n",
    "    importances = importances.sort_values(by='Importance', ascending=False)\n",
    "    importances.to_csv('importances.csv')\n",
    "    \n",
    "    importance_coefficient = model.coef_[0]\n",
    "    for item1, item2 in zip(columns, importance_coefficient):\n",
    "        print('{}, {}'.format(item1, round(item2, 3)))\n",
    "\n",
    "    plt.bar(x=importances['Attribute'], height=importances['Importance'], color='#087E8B')\n",
    "    plt.title('Feature importances obtained from coefficients', size=20)\n",
    "    plt.xticks(rotation='vertical')\n",
    "    plt.show()"
   ]
  },
  {
   "attachments": {},
   "cell_type": "markdown",
   "metadata": {},
   "source": [
    "### Generate CTQScorer ranking using linear regression for test data"
   ]
  },
  {
   "cell_type": "code",
   "execution_count": null,
   "metadata": {},
   "outputs": [],
   "source": [
    "def generate_ctqscorer_ranking(training_source, testing_source, src_lang, dst_lang, x_scalar, features, model):\n",
    "    # load the test dataset\n",
    "    test_data_path = '{}/{}_{}_{}_{}.csv'.format(DATASET_TEST, training_source, testing_source, src_lang, dst_lang)\n",
    "    X_test = pd.read_csv(test_data_path) \n",
    "    X_test.replace([np.inf], 99999, inplace=True)\n",
    "\n",
    "    # predict ctq score\n",
    "    scaled_features =  X_test[features]\n",
    "    scaled_features = x_scalar.transform(scaled_features.values)\n",
    "    X_test[features] = scaled_features\n",
    "    ctq_scores = model.predict(X_test[features])\n",
    "    X_test['ctq_score'] = ctq_scores\n",
    "\n",
    "    # clean the test outputs\n",
    "    X_test['ctq_score'] = X_test['ctq_score'].apply(lambda x: round(x, 4))\n",
    "    X_test = X_test.sort_values(by=['qid'])\n",
    "\n",
    "    # sort the predicted scores \n",
    "    result = {}\n",
    "    for i, row in X_test.iterrows():\n",
    "        qid, index, ctq_score = row['qid'], row['index'], row['ctq_score']\n",
    "        qid, index = int(qid), int(index)\n",
    "        if qid not in result:\n",
    "            result[qid] = []\n",
    "        \n",
    "        result[qid].append({\"index\": index, \"score\": ctq_score})\n",
    "\n",
    "    # sort based on the predicted prompt score\n",
    "    for qid in list(result.keys()):\n",
    "        ranking = result[qid]\n",
    "        ranking.sort(key=lambda x: x['score'], reverse=True)\n",
    "        result[qid] = ranking\n",
    "\n",
    "    # write score to a JSON file       \n",
    "    make_dir('{}/{}'.format(EXAMPLE_SELECTION_TEST_DATA, RANKINGS_LINEAR_REGRESSION))\n",
    "    with open('{}/{}/recommendations_{}_{}_{}_{}.json'.format(EXAMPLE_SELECTION_TEST_DATA, RANKINGS_LINEAR_REGRESSION, training_source, testing_source, src_lang, dst_lang), 'w') as f:\n",
    "        json.dump(result, f, indent=4, ensure_ascii=False)"
   ]
  },
  {
   "cell_type": "markdown",
   "metadata": {},
   "source": [
    "### Main function"
   ]
  },
  {
   "cell_type": "code",
   "execution_count": null,
   "metadata": {},
   "outputs": [],
   "source": [
    "training_source = SAMANANTAR\n",
    "testing_source = FLORES\n",
    "src_lang = HIN_DEVA\n",
    "dst_lang = ENG_LATN\n",
    "\n",
    "# We excluded SRC_PPL, DST_PPL features. Any new feature must be incorporated here\n",
    "features = [NO_OF_TOKENS_IN_QUERY, \n",
    "            NO_OF_TOKENS_IN_SRC_SENT, \n",
    "            NO_OF_TOKENS_IN_DST_SENT,\n",
    "            LABSE_SCORE_QUERY_SRC, \n",
    "            LABSE_SCORE_QUERY_DST, \n",
    "            LABSE_SCORE_SRC_DST,\n",
    "            CHRF_SCORE, \n",
    "            COMET_QE_QUERY_SRC_SCORE, \n",
    "            COMET_QE_QUERY_DST_SCORE, \n",
    "            COMET_QE_SRC_DST_SCORE,\n",
    "            SRC_DST_PPL, \n",
    "            SRC_DST_QUERY_PPL] "
   ]
  },
  {
   "cell_type": "code",
   "execution_count": null,
   "metadata": {},
   "outputs": [],
   "source": [
    "X_train, y_train, X_val, y_val, X_scalar = data_preprocessing(training_source, src_lang, dst_lang, features)\n",
    "model = train_model(X_train, y_train, X_val, y_val)\n",
    "generate_ctqscorer_ranking(training_source, testing_source, src_lang, dst_lang, X_scalar, features, model)\n",
    "get_importance_coeff(model, features)"
   ]
  }
 ],
 "metadata": {
  "kernelspec": {
   "display_name": "ashwanth",
   "language": "python",
   "name": "python3"
  },
  "language_info": {
   "codemirror_mode": {
    "name": "ipython",
    "version": 3
   },
   "file_extension": ".py",
   "mimetype": "text/x-python",
   "name": "python",
   "nbconvert_exporter": "python",
   "pygments_lexer": "ipython3",
   "version": "3.8.15"
  },
  "orig_nbformat": 4,
  "vscode": {
   "interpreter": {
    "hash": "4dc11fe514c79d82d0bf9e8b4fbe517248b12bd49a17d2dc3d1939d45a3cac97"
   }
  }
 },
 "nbformat": 4,
 "nbformat_minor": 2
}
